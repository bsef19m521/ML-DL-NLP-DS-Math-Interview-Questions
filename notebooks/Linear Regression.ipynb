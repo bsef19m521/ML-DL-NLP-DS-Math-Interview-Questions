{
 "cells": [
  {
   "cell_type": "markdown",
   "id": "7832c96d",
   "metadata": {},
   "source": [
    "<h2 align='center'>Linear Regression Interview Questions</h2>"
   ]
  },
  {
   "cell_type": "markdown",
   "id": "959d2b87",
   "metadata": {},
   "source": [
    "\n",
    "- What is linear regression, and what are its assumptions?\n",
    "- What is the difference between simple linear regression and multiple linear regression?\n",
    "- How do you evaluate the performance of a linear regression model?\n",
    "- What is the purpose of regularization in linear regression, and what are some common methods used for regularization?\n",
    "- What is the bias-variance tradeoff in linear regression, and how can you balance it?\n",
    "- What is the difference between L1 and L2 regularization, and when would you use each one?\n",
    "- How do you handle missing data in linear regression?\n",
    "- What is the difference between statistical and machine learning approaches to linear regression?\n",
    "- Can you explain the difference between gradient descent and normal equation methods for finding the optimal coefficients in linear regression?\n",
    "- How do you deal with outliers in linear regression?\n",
    "- What are some common techniques for feature selection in linear regression?\n",
    "- Can you explain the concept of multicollinearity and how it affects linear regression?\n",
    "- Can you explain the concept of heteroscedasticity and how it affects linear regression?\n",
    "- What is the difference between correlation and causation in linear regression?\n",
    "- Can you explain the concept of overfitting in linear regression, and how can you prevent it?\n",
    "- Can you explain the assumptions of linear regression?\n",
    "- What is the difference between correlation and regression?\n",
    "- What is the difference between supervised and unsupervised learning? Is linear regression supervised or unsupervised?\n",
    "- What is the difference between simple linear regression and multiple linear regression?\n",
    "- What is the difference between parametric and non-parametric models, and where does linear regression fall?\n",
    "- How do you handle outliers in linear regression?\n",
    "- What is regularization, and why is it important in linear regression?\n",
    "- Can you explain the difference between L1 and L2 regularization, and when would you use each one?\n",
    "- What is the bias-variance tradeoff, and how does it relate to linear regression?\n",
    "- Can you explain the difference between gradient descent and normal equation methods for finding the optimal coefficients in linear regression?\n",
    "- Can you explain the concept of cross-validation, and how is it used in linear regression?\n",
    "- What is the difference between mean squared error (MSE) and mean absolute error (MAE), and when would you use each one to evaluate a linear regression model?\n",
    "- Can you explain the concept of heteroscedasticity, and how does it affect linear regression?\n",
    "- What is the difference between linear and logistic regression?\n",
    "- Can you explain the concept of feature selection, and how is it performed in linear regression?\n",
    "- Can you explain the concept of multicollinearity, and how is it detected in linear regression?\n",
    "- Can you explain the concept of overfitting, and how can you prevent it in linear regression?\n",
    "- What is the difference between the R-squared value and the adjusted R-squared value in linear regression?\n",
    "- Can you explain the concept of residual analysis, and how is it used to evaluate a linear regression model?\n",
    "- What are some common applications of linear regression in real-world scenarios?\n",
    "- Can you explain the concept of model interpretability, and how might it be important in a real-world linear regression problem?\n",
    "- How might you handle non-linear relationships between variables in a real-world linear regression problem?\n",
    "- Can you explain the concept of residual analysis, and how might it be used to evaluate a real-world linear regression model?\n",
    "- How might you handle outliers in a real-world linear regression problem?\n",
    "- Can you give an example of how you have applied linear regression to a real-world problem in the past, and what were the results?"
   ]
  },
  {
   "cell_type": "code",
   "execution_count": null,
   "id": "c9cc28fb",
   "metadata": {},
   "outputs": [],
   "source": []
  },
  {
   "cell_type": "code",
   "execution_count": null,
   "id": "f22b1cda",
   "metadata": {},
   "outputs": [],
   "source": []
  },
  {
   "cell_type": "code",
   "execution_count": null,
   "id": "4137ebbc",
   "metadata": {},
   "outputs": [],
   "source": []
  },
  {
   "cell_type": "code",
   "execution_count": null,
   "id": "e97529fd",
   "metadata": {},
   "outputs": [],
   "source": []
  },
  {
   "cell_type": "markdown",
   "id": "f4adc1ad",
   "metadata": {},
   "source": [
    "<img src=\"../resources/Linear-regression.jpg\" align='center'>"
   ]
  },
  {
   "cell_type": "code",
   "execution_count": null,
   "id": "fe99bc0c",
   "metadata": {},
   "outputs": [],
   "source": []
  },
  {
   "cell_type": "code",
   "execution_count": null,
   "id": "43d44701",
   "metadata": {},
   "outputs": [],
   "source": []
  },
  {
   "cell_type": "code",
   "execution_count": null,
   "id": "7925ffda",
   "metadata": {},
   "outputs": [],
   "source": []
  },
  {
   "cell_type": "code",
   "execution_count": null,
   "id": "c7d87f94",
   "metadata": {},
   "outputs": [],
   "source": []
  },
  {
   "cell_type": "code",
   "execution_count": null,
   "id": "22b772ff",
   "metadata": {},
   "outputs": [],
   "source": []
  }
 ],
 "metadata": {
  "kernelspec": {
   "display_name": "Python 3 (ipykernel)",
   "language": "python",
   "name": "python3"
  },
  "language_info": {
   "codemirror_mode": {
    "name": "ipython",
    "version": 3
   },
   "file_extension": ".py",
   "mimetype": "text/x-python",
   "name": "python",
   "nbconvert_exporter": "python",
   "pygments_lexer": "ipython3",
   "version": "3.8.10"
  }
 },
 "nbformat": 4,
 "nbformat_minor": 5
}
