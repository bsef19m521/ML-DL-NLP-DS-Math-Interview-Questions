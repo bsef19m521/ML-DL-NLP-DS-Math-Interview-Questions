{
 "cells": [
  {
   "cell_type": "markdown",
   "id": "0dbfde23",
   "metadata": {},
   "source": [
    "<h2 align='center'> Logistic Regression Interview Questions</h2>"
   ]
  },
  {
   "cell_type": "code",
   "execution_count": null,
   "id": "fa725dea",
   "metadata": {},
   "outputs": [],
   "source": []
  },
  {
   "cell_type": "markdown",
   "id": "ba7146c4",
   "metadata": {},
   "source": [
    "\n",
    "- What is logistic regression, and how is it different from linear regression?\n",
    "- What are the assumptions of logistic regression?\n",
    "- How does logistic regression handle multicollinearity?\n",
    "- What is regularization, and how does it help prevent overfitting in logistic regression?\n",
    "- What is the purpose of the sigmoid function in logistic regression?\n",
    "- How do you interpret the coefficients in a logistic regression model?\n",
    "- How do you evaluate the performance of a logistic regression model?\n",
    "- What is the ROC curve, and how is it used to evaluate the performance of a logistic regression model?\n",
    "- What is the AUC metric, and how is it used to evaluate the performance of a logistic regression model?\n",
    "- How do you handle missing values in logistic regression?\n",
    "- How do you handle imbalanced datasets in logistic regression?\n",
    "- What are the advantages and disadvantages of logistic regression compared to other classification algorithms?\n",
    "- Can logistic regression be used for multi-class classification, and if so, how?\n",
    "- What is the difference between binary logistic regression and multinomial logistic regression?\n",
    "- What are some common pitfalls to avoid when using logistic regression?\n",
    "\n",
    "- What is Logistic Regression, and how is it different from Linear Regression?\n",
    "- What are the assumptions of Logistic Regression?\n",
    "- How do you handle missing values in Logistic Regression?\n",
    "- What is regularization, and how does it help in Logistic Regression?\n",
    "- How do you choose the best model in Logistic Regression?\n",
    "- What is multicollinearity, and how do you handle it in Logistic Regression?\n",
    "- How does feature scaling affect Logistic Regression performance?\n",
    "- What is the difference between L1 and L2 regularization, and when do you use each of them?\n",
    "- How does Logistic Regression handle imbalanced data?\n",
    "- What are the performance metrics in Logistic Regression, and how do you interpret them?\n",
    "- How do you deal with categorical variables in Logistic Regression?\n",
    "- What is the impact of outliers on Logistic Regression, and how do you handle them?\n",
    "- How does Logistic Regression handle non-linear relationships between variables?\n",
    "- Can you explain the ROC curve and AUC in Logistic Regression?\n",
    "- How do you deal with overfitting and underfitting in Logistic Regression?\n"
   ]
  },
  {
   "cell_type": "code",
   "execution_count": null,
   "id": "c1c63edb",
   "metadata": {},
   "outputs": [],
   "source": []
  },
  {
   "cell_type": "code",
   "execution_count": null,
   "id": "199645e9",
   "metadata": {},
   "outputs": [],
   "source": []
  }
 ],
 "metadata": {
  "kernelspec": {
   "display_name": "Python 3 (ipykernel)",
   "language": "python",
   "name": "python3"
  },
  "language_info": {
   "codemirror_mode": {
    "name": "ipython",
    "version": 3
   },
   "file_extension": ".py",
   "mimetype": "text/x-python",
   "name": "python",
   "nbconvert_exporter": "python",
   "pygments_lexer": "ipython3",
   "version": "3.8.10"
  }
 },
 "nbformat": 4,
 "nbformat_minor": 5
}
